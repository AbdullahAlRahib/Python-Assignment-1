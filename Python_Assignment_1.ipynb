{
  "cells": [
    {
      "cell_type": "markdown",
      "metadata": {
        "id": "U4E9DciaZJcY"
      },
      "source": [
        "# **Q1**\n",
        "Which keyword is used to create a function? Create a function to return a list of odd numbers in the\n",
        "range of 1 to 25."
      ]
    },
    {
      "cell_type": "markdown",
      "source": [
        "**Answer**: \n",
        "\n",
        "the keyword used to create a function is \"def\""
      ],
      "metadata": {
        "id": "ER3DZc272PMq"
      }
    },
    {
      "cell_type": "code",
      "execution_count": 1,
      "metadata": {
        "id": "iOlU2medZJce",
        "colab": {
          "base_uri": "https://localhost:8080/"
        },
        "outputId": "3ecda701-515b-44cb-d4fe-697a41fb9874"
      },
      "outputs": [
        {
          "output_type": "stream",
          "name": "stdout",
          "text": [
            "[1, 3, 5, 7, 9, 11, 13, 15, 17, 19, 21, 23, 25]\n"
          ]
        }
      ],
      "source": [
        "def get_odd_numbers():\n",
        "    odd_numbers = []\n",
        "    for number in range(1, 26):\n",
        "        if number % 2 != 0:\n",
        "            odd_numbers.append(number)\n",
        "    return odd_numbers\n",
        "result = get_odd_numbers()\n",
        "print(result)"
      ]
    },
    {
      "cell_type": "markdown",
      "metadata": {
        "id": "Up34mFWtZJch"
      },
      "source": [
        "# **Q2.**\n",
        " Why *args and **kwargs is used in some functions? Create a function each for *args and **kwargs\n",
        "to demonstrate their use.\n",
        "\n",
        "**Answer:**\n",
        "\n",
        "*args is used to pass a variable number of non-keyworded arguments (positional arguments) to a function. It allows you to pass any number of arguments to the function without specifying them individually. Inside the function, the *args parameter is treated as a tuple containing all the arguments passed."
      ]
    },
    {
      "cell_type": "code",
      "execution_count": 2,
      "metadata": {
        "id": "nmyXzT2wZJci",
        "colab": {
          "base_uri": "https://localhost:8080/"
        },
        "outputId": "c560139b-d3f8-42de-a265-7a287f25b5b1"
      },
      "outputs": [
        {
          "output_type": "stream",
          "name": "stdout",
          "text": [
            "Hello\n",
            "world\n",
            "Python\n"
          ]
        }
      ],
      "source": [
        "def print_args(*args):\n",
        "    for arg in args:\n",
        "        print(arg)\n",
        "        \n",
        "print_args('Hello', 'world', 'Python')"
      ]
    },
    {
      "cell_type": "markdown",
      "source": [
        "**kwargs is used to pass a variable number of keyword arguments to a function. It allows you to pass key-value pairs as arguments to the function. Inside the function, the **kwargs parameter is treated as a dictionary containing the keyword arguments."
      ],
      "metadata": {
        "id": "ELEUOs0GrvXh"
      }
    },
    {
      "cell_type": "code",
      "source": [
        "def print_kwargs(**kwargs):\n",
        "    for key, value in kwargs.items():\n",
        "        print(f\"{key}: {value}\")\n",
        "\n",
        "print_kwargs(name='John', age=25, city='New York')\n"
      ],
      "metadata": {
        "colab": {
          "base_uri": "https://localhost:8080/"
        },
        "id": "Rpw0uaKcrwJE",
        "outputId": "2d53ab26-4384-4e5c-b100-313c3e1a60a0"
      },
      "execution_count": 3,
      "outputs": [
        {
          "output_type": "stream",
          "name": "stdout",
          "text": [
            "name: John\n",
            "age: 25\n",
            "city: New York\n"
          ]
        }
      ]
    },
    {
      "cell_type": "markdown",
      "metadata": {
        "id": "uoIEsSA5ZJcj"
      },
      "source": [
        "# **Q3.**\n",
        "What is an iterator in python? Name the method used to initialise the iterator object and the method\n",
        "used for iteration. Use these methods to print the first five elements of the given list [2, 4, 6, 8, 10, 12, 14,\n",
        "16, 18, 20].\n",
        "\n",
        "**Answer:**\n",
        "\n",
        "An iterator is an object that implements the iterator protocol, which consists of two methods: __iter__() and __next__(). Iterators are used to iterate over a collection of elements, allowing you to access each element one by one.\n",
        "\n",
        "The __iter__() method is used to initialize the iterator object. It returns the iterator object itself. This method is called when an iterator object is created or reset.\n",
        "\n",
        "The __next__() method is used for iteration. It returns the next element from the iterator. If there are no more elements, it raises the StopIteration exception."
      ]
    },
    {
      "cell_type": "code",
      "execution_count": 4,
      "metadata": {
        "id": "wK7wS-5dZJck",
        "colab": {
          "base_uri": "https://localhost:8080/"
        },
        "outputId": "180b1b5c-685d-4efe-f33c-8d37fff918e1"
      },
      "outputs": [
        {
          "output_type": "stream",
          "name": "stdout",
          "text": [
            "2\n",
            "4\n",
            "6\n",
            "8\n",
            "10\n"
          ]
        }
      ],
      "source": [
        "my_list = [2, 4, 6, 8, 10, 12, 14, 16, 18, 20]\n",
        "\n",
        "my_iter = iter(my_list)\n",
        "\n",
        "for _ in range(5):\n",
        "    element = next(my_iter)\n",
        "    print(element)"
      ]
    },
    {
      "cell_type": "markdown",
      "metadata": {
        "id": "IHdSqkO_ZJcl"
      },
      "source": [
        "# **Q4.**\n",
        "What is a generator function in python? Why yield keyword is used? Give an example of a generator\n",
        "function.\n",
        "\n",
        "**Answer:**\n",
        "a generator function is a special type of function that returns an iterator, which can be iterated over to generate a sequence of values. Unlike regular functions that use the return statement to return a value and terminate, generator functions use the yield keyword to produce a series of values while maintaining their internal state between each yield statement.\n",
        "\n",
        "The yield keyword is used in generator functions to specify the values to be generated. When a generator function is called, it returns an iterator object, which can be iterated over using the next() function. Each time next() is called, the generator function resumes execution from where it left off, with the current values of variables intact, until the next yield statement is encountered. The value yielded is then returned by the next() function.\n",
        "\n",
        "The key benefit of using generator functions is that they allow you to generate values on-the-fly, without needing to store them in memory all at once. This makes generators memory-efficient, especially when dealing with large or infinite sequences."
      ]
    },
    {
      "cell_type": "code",
      "source": [
        "def generate_even_numbers():\n",
        "    number = 0\n",
        "    while True:\n",
        "        yield number\n",
        "        number += 2\n",
        "\n",
        "# Create an iterator from the generator function\n",
        "even_iter = generate_even_numbers()\n",
        "\n",
        "# Print the first five even numbers\n",
        "for _ in range(5):\n",
        "    even_number = next(even_iter)\n",
        "    print(even_number)"
      ],
      "metadata": {
        "colab": {
          "base_uri": "https://localhost:8080/"
        },
        "id": "N9yqyRxKtPWt",
        "outputId": "7ae82b55-7700-42d8-ddab-684e58bbfbdf"
      },
      "execution_count": 5,
      "outputs": [
        {
          "output_type": "stream",
          "name": "stdout",
          "text": [
            "0\n",
            "2\n",
            "4\n",
            "6\n",
            "8\n"
          ]
        }
      ]
    },
    {
      "cell_type": "markdown",
      "metadata": {
        "id": "X7yFJc_rZJcm"
      },
      "source": [
        "# **Q5.**\n",
        "Create a generator function for prime numbers less than 1000. Use the next() method to print the\n",
        "first 20 prime numbers."
      ]
    },
    {
      "cell_type": "code",
      "execution_count": 6,
      "metadata": {
        "colab": {
          "base_uri": "https://localhost:8080/"
        },
        "id": "nE0OdEVWZJcn",
        "outputId": "1757e1bf-9f37-4691-917b-553d68e2f522"
      },
      "outputs": [
        {
          "output_type": "stream",
          "name": "stdout",
          "text": [
            "2\n",
            "3\n",
            "5\n",
            "7\n",
            "11\n",
            "13\n",
            "17\n",
            "19\n",
            "23\n",
            "29\n",
            "31\n",
            "37\n",
            "41\n",
            "43\n",
            "47\n",
            "53\n",
            "59\n",
            "61\n",
            "67\n",
            "71\n"
          ]
        }
      ],
      "source": [
        "def generate_primes():\n",
        "    yield 2 \n",
        "    primes = [2]  \n",
        "    number = 3  \n",
        "\n",
        "    while number < 1000:\n",
        "        is_prime = True\n",
        "\n",
        "        for prime in primes:\n",
        "            if number % prime == 0:\n",
        "                is_prime = False\n",
        "                break\n",
        "\n",
        "        if is_prime:\n",
        "            yield number\n",
        "            primes.append(number)\n",
        "\n",
        "        number += 2  \n",
        "\n",
        "prime_iter = generate_primes()\n",
        "\n",
        "for _ in range(20):\n",
        "    prime_number = next(prime_iter)\n",
        "    print(prime_number)\n"
      ]
    },
    {
      "cell_type": "markdown",
      "metadata": {
        "id": "s9sJr-M2ZJcn"
      },
      "source": [
        "# **Q6.**\n",
        " Write a python program to print the first 10 Fibonacci numbers using a while loop.\n"
      ]
    },
    {
      "cell_type": "code",
      "execution_count": 12,
      "metadata": {
        "id": "aKASvr-qZJcn",
        "colab": {
          "base_uri": "https://localhost:8080/"
        },
        "outputId": "64daf736-eafc-4f80-e534-b59f81d7f8e7"
      },
      "outputs": [
        {
          "output_type": "stream",
          "name": "stdout",
          "text": [
            "0\n",
            "1\n",
            "1\n",
            "2\n",
            "3\n",
            "5\n",
            "8\n",
            "13\n",
            "21\n",
            "34\n"
          ]
        }
      ],
      "source": [
        "num_1 = 0\n",
        "num_2 = 1\n",
        "\n",
        "count = 0\n",
        "\n",
        "while count < 10:\n",
        "    print(num_1)\n",
        "    num_next = num_1 + num_2\n",
        "\n",
        "    num_1 = num_2\n",
        "    num_2 = num_next\n",
        "\n",
        "    count += 1"
      ]
    },
    {
      "cell_type": "markdown",
      "metadata": {
        "id": "Kf2bz7j0ZJco"
      },
      "source": [
        "# **Q7.**\n",
        " Write a List Comprehension to iterate through the given string: ‘pwskills’.\n",
        "\n",
        "Expected output: ['p', 'w', 's', 'k', 'i', 'l', 'l', 's'] "
      ]
    },
    {
      "cell_type": "code",
      "execution_count": 14,
      "metadata": {
        "colab": {
          "base_uri": "https://localhost:8080/"
        },
        "id": "xYAHL8PlZJco",
        "outputId": "18bfc18c-05c8-4454-bb9b-1f142dbc1f7a"
      },
      "outputs": [
        {
          "output_type": "stream",
          "name": "stdout",
          "text": [
            "['p', 'w', 's', 'k', 'i', 'l', 'l', 's']\n"
          ]
        }
      ],
      "source": [
        "string = 'pwskills'\n",
        "res = [i for i in string]\n",
        "print(res)"
      ]
    },
    {
      "cell_type": "markdown",
      "source": [
        " # **Q8.**\n",
        "\n",
        "Write a python program to check whether a given number is Palindrome or not using a while loop."
      ],
      "metadata": {
        "id": "RdtMMYav2RLi"
      }
    },
    {
      "cell_type": "code",
      "source": [
        "def is_palindrome(number):\n",
        "    original_number = number\n",
        "    reversed_number = 0\n",
        "    while number > 0:\n",
        "        last_digit = number % 10\n",
        "        reversed_number = (reversed_number * 10) + last_digit\n",
        "        number = number // 10\n",
        "    if original_number == reversed_number:\n",
        "        return True\n",
        "    else:\n",
        "        return False\n",
        "\n",
        "num = int(input(\"Enter a number: \"))\n",
        "\n",
        "if is_palindrome(num):\n",
        "    print(f\"{num} is a palindrome.\")\n",
        "else:\n",
        "    print(f\"{num} is not a palindrome.\")\n"
      ],
      "metadata": {
        "colab": {
          "base_uri": "https://localhost:8080/"
        },
        "id": "0RsKZdCp1A-n",
        "outputId": "cd6abe3f-8e7f-4277-aed7-964f4bab72f7"
      },
      "execution_count": 16,
      "outputs": [
        {
          "output_type": "stream",
          "name": "stdout",
          "text": [
            "Enter a number: 252\n",
            "252 is a palindrome.\n"
          ]
        }
      ]
    },
    {
      "cell_type": "markdown",
      "source": [
        "# **Q9.**\n",
        "Write a code to print odd numbers from 1 to 100 using list comprehension.\n",
        "\n"
      ],
      "metadata": {
        "id": "ZeXu6pLX2XjP"
      }
    },
    {
      "cell_type": "code",
      "source": [
        "numbers = [i for i in range(1, 101)]\n",
        "odd_numbers = [i for i in numbers if i % 2 != 0]\n",
        "print(odd_numbers)"
      ],
      "metadata": {
        "colab": {
          "base_uri": "https://localhost:8080/"
        },
        "id": "tgbVTwTs2W4f",
        "outputId": "d214efbf-b8ad-4846-fb83-91fe87399a46"
      },
      "execution_count": 17,
      "outputs": [
        {
          "output_type": "stream",
          "name": "stdout",
          "text": [
            "[1, 3, 5, 7, 9, 11, 13, 15, 17, 19, 21, 23, 25, 27, 29, 31, 33, 35, 37, 39, 41, 43, 45, 47, 49, 51, 53, 55, 57, 59, 61, 63, 65, 67, 69, 71, 73, 75, 77, 79, 81, 83, 85, 87, 89, 91, 93, 95, 97, 99]\n"
          ]
        }
      ]
    }
  ],
  "metadata": {
    "kernelspec": {
      "display_name": "Python 3",
      "language": "python",
      "name": "python3"
    },
    "language_info": {
      "codemirror_mode": {
        "name": "ipython",
        "version": 3
      },
      "file_extension": ".py",
      "mimetype": "text/x-python",
      "name": "python",
      "nbconvert_exporter": "python",
      "pygments_lexer": "ipython3",
      "version": "3.11.3"
    },
    "orig_nbformat": 4,
    "colab": {
      "provenance": []
    }
  },
  "nbformat": 4,
  "nbformat_minor": 0
}